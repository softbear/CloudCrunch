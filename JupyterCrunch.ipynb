{
  "nbformat": 4,
  "nbformat_minor": 0,
  "metadata": {
    "colab": {
      "name": "JupyterCrunch.ipynb",
      "provenance": [],
      "authorship_tag": "ABX9TyMf75lwJy3zKcU53yebcq8N",
      "include_colab_link": true
    },
    "kernelspec": {
      "name": "python3",
      "display_name": "Python 3"
    }
  },
  "cells": [
    {
      "cell_type": "markdown",
      "metadata": {
        "id": "view-in-github",
        "colab_type": "text"
      },
      "source": [
        "<a href=\"https://colab.research.google.com/github/softbear/CloudCrunch/blob/master/JupyterCrunch.ipynb\" target=\"_parent\"><img src=\"https://colab.research.google.com/assets/colab-badge.svg\" alt=\"Open In Colab\"/></a>"
      ]
    },
    {
      "cell_type": "code",
      "metadata": {
        "id": "mDJhenifMXCt",
        "colab_type": "code",
        "colab": {}
      },
      "source": [
        "import os.path\n",
        "!boinccmd --project_attach \"http://srbase.my-firewall.org/sr5/\" \"2222_e4243665e4ae9aac9c4860429008560c\"\n",
        "!boinccmd --project_attach \"http://gpugrid.net/\" \"520880_39aa28c40fb633ed3fd8c4a54fc577e2\"\n",
        "!boinccmd --project_attach \"http://www.cosmologyathome.org/\" \"1575586_bfb1f9f934b39e8cbec67c2b2b5d2aa2\"\n",
        "!boinccmd --project_attach \"https://universeathome.pl/universe/\" \"212475_b82edae4399bf146cb61c916c42388c1\"\n",
        "#!boinc --daemon --attach_project \"https://escatter11.fullerton.edu/nfs/\" \"485853_94dfe4c2f46043c5b85288d5bcd5d072\"\n",
        "#!boinc --daemon --attach_project \"http://yafu.myfirewall.org/yafu/\" \"77118_ed5f55dbe3031cfb6043a2fd7e832406\"\n",
        "#!boinc --daemon\n",
        "!boinccmd --set_gpu_mode always"
      ],
      "execution_count": 0,
      "outputs": []
    },
    {
      "cell_type": "code",
      "metadata": {
        "id": "OB13roOrOaGB",
        "colab_type": "code",
        "colab": {}
      },
      "source": [
        "!boinccmd --get status"
      ],
      "execution_count": 0,
      "outputs": []
    }
  ]
}