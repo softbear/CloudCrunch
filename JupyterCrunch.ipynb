{
  "nbformat": 4,
  "nbformat_minor": 0,
  "metadata": {
    "colab": {
      "name": "JupyterCrunch.ipynb",
      "provenance": [],
      "authorship_tag": "ABX9TyN57wuGsOqxjwyCtCUvCFw8",
      "include_colab_link": true
    },
    "kernelspec": {
      "name": "python3",
      "display_name": "Python 3"
    }
  },
  "cells": [
    {
      "cell_type": "markdown",
      "metadata": {
        "id": "view-in-github",
        "colab_type": "text"
      },
      "source": [
        "<a href=\"https://colab.research.google.com/github/softbear/CloudCrunch/blob/master/JupyterCrunch.ipynb\" target=\"_parent\"><img src=\"https://colab.research.google.com/assets/colab-badge.svg\" alt=\"Open In Colab\"/></a>"
      ]
    },
    {
      "cell_type": "code",
      "metadata": {
        "id": "mDJhenifMXCt",
        "colab_type": "code",
        "colab": {}
      },
      "source": [
        "import os.path\n",
        "!boinc --daemon\n",
        "!boinccmd --project_attach \"https://boinc.bakerlab.org/rosetta/\" \"1904431_59583976062a2c3b3aa74e84e405c043\"\n",
        "#!boinccmd --project_attach \"http://www.worldcommunitygrid.org\" \"1005201_98de6db08052134ea06c998ad70f2d25\"\n",
        "#!boinccmd --project_attach \"http://gpugrid.net/\" \"520880_39aa28c40fb633ed3fd8c4a54fc577e2\"\n",
        "#!boinccmd --project_attach \"http://www.cosmologyathome.org/\" \"1575586_bfb1f9f934b39e8cbec67c2b2b5d2aa2\"\n",
        "#!boinccmd --project_attach \"https://universeathome.pl/universe/\" \"212475_b82edae4399bf146cb61c916c42388c1\"\n",
        "#!boinccmd --project_attach \"https://escatter11.fullerton.edu/nfs/\" \"485853_94dfe4c2f46043c5b85288d5bcd5d072\"\n",
        "#!boinccmd --project_attach \"http://yafu.myfirewall.org/yafu/\" \"77118_ed5f55dbe3031cfb6043a2fd7e832406\"\n",
        "!boinccmd --get_state\n",
        "!tail -f stdoutdae.txt"
      ],
      "execution_count": 0,
      "outputs": []
    }
  ]
}
