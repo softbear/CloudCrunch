{
  "nbformat": 4,
  "nbformat_minor": 0,
  "metadata": {
    "colab": {
      "name": "BOINC@Cloud",
      "provenance": [],
      "collapsed_sections": [],
      "authorship_tag": "ABX9TyNwbJdeOTNHBqYcBgDv1XzO",
      "include_colab_link": true
    },
    "kernelspec": {
      "name": "python3",
      "display_name": "Python 3"
    },
    "accelerator": "GPU"
  },
  "cells": [
    {
      "cell_type": "markdown",
      "metadata": {
        "id": "view-in-github",
        "colab_type": "text"
      },
      "source": [
        "<a href=\"https://colab.research.google.com/github/softbear/CloudCrunch/blob/master/BOINC_Cloud.ipynb\" target=\"_parent\"><img src=\"https://colab.research.google.com/assets/colab-badge.svg\" alt=\"Open In Colab\"/></a>"
      ]
    },
    {
      "cell_type": "code",
      "metadata": {
        "id": "iGC2ZwSnS09V",
        "colab_type": "code",
        "outputId": "ff51c0a8-b78e-4d8e-f62b-474fe757cafe",
        "colab": {
          "base_uri": "https://localhost:8080/",
          "height": 561
        }
      },
      "source": [
        "import os.path\n",
        "#!apt-get update\n",
        "!apt-get install boinc boinc-client\n",
        "!cp /usr/bin/boinc /content\n",
        "!cp /usr/bin/boinccmd /content\n",
        "if not os.path.exists('/content/slots'):\n",
        "  !mkdir slots\n",
        "if not os.path.exists('/content/slots/0'):\n",
        "  !boinc --daemon --attach_project \"http://www.srbase.my-firewall.org/sr5/\" \"2222_e4243665e4ae9aac9c4860429008560c\"\n",
        "  !boinc --daemon --attach_project \"https://www.escatter11.fullerton.edu/nfs/\" \"485853_94dfe4c2f46043c5b85288d5bcd5d072\"\n",
        "else:\n",
        "  !boinc --daemon \n",
        "!boinccmd --set_gpu_mode always\n",
        "!tail -f stdoutdae.txt"
      ],
      "execution_count": 5,
      "outputs": [
        {
          "output_type": "stream",
          "text": [
            "\r0% [Working]\r            \rHit:1 http://ppa.launchpad.net/graphics-drivers/ppa/ubuntu bionic InRelease\n",
            "\r0% [Waiting for headers] [Waiting for headers] [Connecting to cloud.r-project.o\r                                                                               \rHit:2 http://archive.ubuntu.com/ubuntu bionic InRelease\n",
            "\r                                                                               \rGet:3 http://security.ubuntu.com/ubuntu bionic-security InRelease [88.7 kB]\n",
            "\r0% [Waiting for headers] [3 InRelease 14.2 kB/88.7 kB 16%] [Connected to cloud.\r                                                                               \rGet:4 http://archive.ubuntu.com/ubuntu bionic-updates InRelease [88.7 kB]\n",
            "\r0% [4 InRelease 2,602 B/88.7 kB 3%] [3 InRelease 17.1 kB/88.7 kB 19%] [Connecte\r0% [1 InRelease gpgv 21.3 kB] [4 InRelease 2,602 B/88.7 kB 3%] [3 InRelease 17.\r                                                                               \rHit:5 http://ppa.launchpad.net/marutter/c2d4u3.5/ubuntu bionic InRelease\n",
            "\r0% [1 InRelease gpgv 21.3 kB] [4 InRelease 14.2 kB/88.7 kB 16%] [3 InRelease 20\r0% [1 InRelease gpgv 21.3 kB] [4 InRelease 66.3 kB/88.7 kB 75%] [Connected to c\r0% [1 InRelease gpgv 21.3 kB] [Connected to cloud.r-project.org (13.226.155.114\r                                                                               \rGet:6 http://archive.ubuntu.com/ubuntu bionic-backports InRelease [74.6 kB]\n",
            "\r0% [1 InRelease gpgv 21.3 kB] [6 InRelease 9,842 B/74.6 kB 13%] [Connected to c\r0% [1 InRelease gpgv 21.3 kB] [Connected to cloud.r-project.org (13.226.155.114\r                                                                               \rHit:7 https://cloud.r-project.org/bin/linux/ubuntu bionic-cran35/ InRelease\n",
            "\r                                                                               \r0% [1 InRelease gpgv 21.3 kB] [Waiting for headers]\r                                                   \rIgn:8 https://developer.download.nvidia.com/compute/cuda/repos/ubuntu1804/x86_64  InRelease\n",
            "\r0% [1 InRelease gpgv 21.3 kB] [Waiting for headers]\r                                                   \r0% [Waiting for headers]\r0% [2 InRelease gpgv 242 kB] [Waiting for headers]\r                                                  \rIgn:9 https://developer.download.nvidia.com/compute/machine-learning/repos/ubuntu1804/x86_64  InRelease\n",
            "\r                                                  \r0% [2 InRelease gpgv 242 kB]\r                            \rHit:10 https://developer.download.nvidia.com/compute/cuda/repos/ubuntu1804/x86_64  Release\n",
            "Hit:11 https://developer.download.nvidia.com/compute/machine-learning/repos/ubuntu1804/x86_64  Release\n",
            "Fetched 252 kB in 2s (121 kB/s)\n",
            "Reading package lists... Done\n",
            "Reading package lists... Done\n",
            "Building dependency tree       \n",
            "Reading state information... Done\n",
            "boinc is already the newest version (7.9.3+dfsg-5ubuntu2).\n",
            "boinc-client is already the newest version (7.9.3+dfsg-5ubuntu2).\n",
            "0 upgraded, 0 newly installed, 0 to remove and 32 not upgraded.\n",
            "Authorization failure: -155\n",
            "07-May-2020 00:54:41 [---] Preferences:\n",
            "07-May-2020 00:54:41 [---]    max memory usage when active: 6510.53 MB\n",
            "07-May-2020 00:54:41 [---]    max memory usage when idle: 11718.95 MB\n",
            "07-May-2020 00:54:41 [---]    max disk usage: 33.25 GB\n",
            "07-May-2020 00:54:41 [---]    don't use GPU while active\n",
            "07-May-2020 00:54:41 [---]    suspend work if non-BOINC CPU load exceeds 25%\n",
            "07-May-2020 00:54:41 [---]    (to change preferences, visit a project web site or select Preferences in the Manager)\n",
            "07-May-2020 00:54:41 [---] Setting up project and slot directories\n",
            "07-May-2020 00:54:41 [---] Checking active tasks\n",
            "07-May-2020 00:54:41 [---] Setting up GUI RPC socket\n",
            "07-May-2020 00:55:10 [---] GUI RPC bind to port 31416 failed: 98\n",
            "^C\n"
          ],
          "name": "stdout"
        }
      ]
    },
    {
      "cell_type": "code",
      "metadata": {
        "id": "bCVpMPVLikR-",
        "colab_type": "code",
        "colab": {}
      },
      "source": [
        ""
      ],
      "execution_count": 0,
      "outputs": []
    },
    {
      "cell_type": "code",
      "metadata": {
        "id": "Wris9R99fUCW",
        "colab_type": "code",
        "colab": {}
      },
      "source": [
        "!rmdir -f *\n",
        "!ls"
      ],
      "execution_count": 0,
      "outputs": []
    },
    {
      "cell_type": "code",
      "metadata": {
        "id": "B0JsTFnzhxgc",
        "colab_type": "code",
        "outputId": "787b45e1-48b3-49b1-e992-ff6db1113350",
        "colab": {
          "base_uri": "https://localhost:8080/",
          "height": 34
        }
      },
      "source": [
        "!head gui_rpc_auth.cfg"
      ],
      "execution_count": 0,
      "outputs": [
        {
          "output_type": "stream",
          "text": [
            "84903f08628cb3d85f4576e2ccb53a86"
          ],
          "name": "stdout"
        }
      ]
    },
    {
      "cell_type": "code",
      "metadata": {
        "id": "4EcBmbRSh9n6",
        "colab_type": "code",
        "outputId": "88ed142f-b004-4fed-d61d-2755acf1b145",
        "colab": {
          "base_uri": "https://localhost:8080/",
          "height": 34
        }
      },
      "source": [
        "!whoami"
      ],
      "execution_count": 0,
      "outputs": [
        {
          "output_type": "stream",
          "text": [
            "root\n"
          ],
          "name": "stdout"
        }
      ]
    },
    {
      "cell_type": "code",
      "metadata": {
        "id": "-yF16JvaiD_O",
        "colab_type": "code",
        "outputId": "28a7ee7a-dfac-444c-f10b-339284d8fed7",
        "colab": {
          "base_uri": "https://localhost:8080/",
          "height": 34
        }
      },
      "source": [
        "!curl ipecho.net/plain"
      ],
      "execution_count": 0,
      "outputs": [
        {
          "output_type": "stream",
          "text": [
            "35.204.150.50"
          ],
          "name": "stdout"
        }
      ]
    },
    {
      "cell_type": "code",
      "metadata": {
        "id": "HRWVKltjiGMn",
        "colab_type": "code",
        "outputId": "c51324dc-6212-4a08-846b-c02467405f98",
        "colab": {
          "base_uri": "https://localhost:8080/",
          "height": 122
        }
      },
      "source": [
        ""
      ],
      "execution_count": 0,
      "outputs": [
        {
          "output_type": "stream",
          "text": [
            "Go to this URL in a browser: https://accounts.google.com/o/oauth2/auth?client_id=947318989803-6bn6qk8qdgf4n4g3pfee6491hc0brc4i.apps.googleusercontent.com&redirect_uri=urn%3aietf%3awg%3aoauth%3a2.0%3aoob&response_type=code&scope=email%20https%3a%2f%2fwww.googleapis.com%2fauth%2fdocs.test%20https%3a%2f%2fwww.googleapis.com%2fauth%2fdrive%20https%3a%2f%2fwww.googleapis.com%2fauth%2fdrive.photos.readonly%20https%3a%2f%2fwww.googleapis.com%2fauth%2fpeopleapi.readonly\n",
            "\n",
            "Enter your authorization code:\n",
            "··········\n",
            "Mounted at /content/gdrive\n"
          ],
          "name": "stdout"
        }
      ]
    },
    {
      "cell_type": "code",
      "metadata": {
        "id": "hwSA7DfakkwW",
        "colab_type": "code",
        "colab": {}
      },
      "source": [
        "!cd .."
      ],
      "execution_count": 0,
      "outputs": []
    },
    {
      "cell_type": "code",
      "metadata": {
        "id": "Z0QANEM-kl-X",
        "colab_type": "code",
        "outputId": "1281dd4f-3697-4654-8939-e98a97c86333",
        "colab": {
          "base_uri": "https://localhost:8080/",
          "height": 238
        }
      },
      "source": [
        "!ls"
      ],
      "execution_count": 0,
      "outputs": [
        {
          "output_type": "stream",
          "text": [
            "account_www.primegrid.com.xml  master_www.primegrid.com.xml\n",
            "all_projects_list.xml\t       notices\n",
            "boinc\t\t\t       projects\n",
            "boinccmd\t\t       sample_data\n",
            "client_state_prev.xml\t       sched_reply_www.primegrid.com.xml\n",
            "client_state.xml\t       sched_request_www.primegrid.com.xml\n",
            "coproc_info.xml\t\t       slots\n",
            "daily_xfer_history.xml\t       statistics_www.primegrid.com.xml\n",
            "gdrive\t\t\t       stderrdae.txt\n",
            "global_prefs.xml\t       stderrgpudetect.txt\n",
            "gui_rpc_auth.cfg\t       stdoutdae.txt\n",
            "job_log_www.primegrid.com.txt  stdoutgpudetect.txt\n",
            "lockfile\t\t       time_stats_log\n"
          ],
          "name": "stdout"
        }
      ]
    },
    {
      "cell_type": "code",
      "metadata": {
        "id": "bicnwv5nkqin",
        "colab_type": "code",
        "outputId": "154a7f19-f75d-4313-b203-040c749586a6",
        "colab": {
          "base_uri": "https://localhost:8080/",
          "height": 34
        }
      },
      "source": [
        "\n",
        "!ls gdrive"
      ],
      "execution_count": 0,
      "outputs": [
        {
          "output_type": "stream",
          "text": [
            "'My Drive'\n"
          ],
          "name": "stdout"
        }
      ]
    },
    {
      "cell_type": "code",
      "metadata": {
        "id": "Gxk6u_7LkzYY",
        "colab_type": "code",
        "colab": {}
      },
      "source": [
        ""
      ],
      "execution_count": 0,
      "outputs": []
    }
  ]
}