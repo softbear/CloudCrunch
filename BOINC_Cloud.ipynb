{
  "nbformat": 4,
  "nbformat_minor": 0,
  "metadata": {
    "colab": {
      "name": "BOINC@Cloud",
      "provenance": [],
      "collapsed_sections": [],
      "authorship_tag": "ABX9TyPo/nzOHu1PoRYBh4W/x+sS",
      "include_colab_link": true
    },
    "kernelspec": {
      "name": "python3",
      "display_name": "Python 3"
    },
    "accelerator": "GPU"
  },
  "cells": [
    {
      "cell_type": "markdown",
      "metadata": {
        "id": "view-in-github",
        "colab_type": "text"
      },
      "source": [
        "<a href=\"https://colab.research.google.com/github/softbear/CloudCrunch/blob/master/BOINC_Cloud.ipynb\" target=\"_parent\"><img src=\"https://colab.research.google.com/assets/colab-badge.svg\" alt=\"Open In Colab\"/></a>"
      ]
    },
    {
      "cell_type": "code",
      "metadata": {
        "id": "iGC2ZwSnS09V",
        "colab_type": "code",
        "outputId": "b0bd47ab-035d-476b-8253-d5c0456b0568",
        "colab": {
          "base_uri": "https://localhost:8080/",
          "height": 323
        }
      },
      "source": [
        "import os.path\n",
        "#!apt-get update\n",
        "!apt-get install boinc boinc-client\n",
        "!cp /usr/bin/boinc /content\n",
        "!cp /usr/bin/boinccmd /content\n"
      ],
      "execution_count": 1,
      "outputs": [
        {
          "output_type": "stream",
          "text": [
            "Reading package lists... Done\n",
            "Building dependency tree       \n",
            "Reading state information... Done\n",
            "boinc is already the newest version (7.9.3+dfsg-5ubuntu2).\n",
            "boinc-client is already the newest version (7.9.3+dfsg-5ubuntu2).\n",
            "0 upgraded, 0 newly installed, 0 to remove and 29 not upgraded.\n",
            "07-May-2020 19:08:10 [---] Project communication failed: attempting access to reference site\n",
            "07-May-2020 19:08:13 [---] Internet access OK - project servers may be temporarily down.\n",
            "07-May-2020 19:09:22 [---] Project communication failed: attempting access to reference site\n",
            "07-May-2020 19:09:24 [---] Internet access OK - project servers may be temporarily down.\n",
            "07-May-2020 19:12:35 [---] cc_config.xml not found - using defaults\n",
            "07-May-2020 19:12:37 [---] cc_config.xml not found - using defaults\n",
            "07-May-2020 19:13:04 [---] Project communication failed: attempting access to reference site\n",
            "07-May-2020 19:13:06 [---] Internet access OK - project servers may be temporarily down.\n",
            "07-May-2020 19:17:23 [---] cc_config.xml not found - using defaults\n",
            "07-May-2020 19:17:24 [---] cc_config.xml not found - using defaults\n",
            "^C\n"
          ],
          "name": "stdout"
        }
      ]
    },
    {
      "cell_type": "code",
      "metadata": {
        "id": "g0YqEp23lib9",
        "colab_type": "code",
        "colab": {
          "base_uri": "https://localhost:8080/",
          "height": 215
        },
        "outputId": "d281d373-10c9-4603-993a-0c5a32d3c2e9"
      },
      "source": [
        "if not os.path.exists('/content/slots'):\n",
        "  !mkdir slots\n",
        "if not os.path.exists('/content/slots/0'):\n",
        "  !boinc --daemon --attach_project \"http://srbase.my-firewall.org/sr5/\" \"2222_e4243665e4ae9aac9c4860429008560c\"\n",
        "  !boinc --daemon --attach_project \"http://escatter11.fullerton.edu/nfs/\" \"485853_94dfe4c2f46043c5b85288d5bcd5d072\"\n",
        "  !boinc --daemon --attach_project \"http://gpugrid.net\" \"520880_39aa28c40fb633ed3fd8c4a54fc577e2\"\n",
        "else:\n",
        "  !boinc --daemon\n",
        "!boinccmd --set_gpu_mode always\n"
      ],
      "execution_count": 2,
      "outputs": [
        {
          "output_type": "stream",
          "text": [
            "07-May-2020 19:09:24 [---] Internet access OK - project servers may be temporarily down.\n",
            "07-May-2020 19:12:35 [---] cc_config.xml not found - using defaults\n",
            "07-May-2020 19:12:37 [---] cc_config.xml not found - using defaults\n",
            "07-May-2020 19:13:04 [---] Project communication failed: attempting access to reference site\n",
            "07-May-2020 19:13:06 [---] Internet access OK - project servers may be temporarily down.\n",
            "07-May-2020 19:17:23 [---] cc_config.xml not found - using defaults\n",
            "07-May-2020 19:17:24 [---] cc_config.xml not found - using defaults\n",
            "07-May-2020 19:21:47 [---] cc_config.xml not found - using defaults\n",
            "07-May-2020 19:21:48 [---] cc_config.xml not found - using defaults\n",
            "07-May-2020 19:21:50 [---] cc_config.xml not found - using defaults\n",
            "^C\n"
          ],
          "name": "stdout"
        }
      ]
    },
    {
      "cell_type": "code",
      "metadata": {
        "id": "QZxq0gFdmPkh",
        "colab_type": "code",
        "colab": {}
      },
      "source": [
        "  !boinc --daemon --attach_project \"http://srbase.my-firewall.org/sr5/\" \"2222_e4243665e4ae9aac9c4860429008560c\"\n",
        "  !boinc --daemon --attach_project \"http://escatter11.fullerton.edu/nfs/\" \"485853_94dfe4c2f46043c5b85288d5bcd5d072\"\n",
        "  !boinc --daemon --attach_project \"http://gpugrid.net\" \"520880_39aa28c40fb633ed3fd8c4a54fc577e2\""
      ],
      "execution_count": 0,
      "outputs": []
    },
    {
      "cell_type": "code",
      "metadata": {
        "id": "Tzta45IRmVGE",
        "colab_type": "code",
        "colab": {
          "base_uri": "https://localhost:8080/",
          "height": 935
        },
        "outputId": "b1558782-9688-4c85-df57-102454fd7390"
      },
      "source": [
        "!boinccmd --daemon"
      ],
      "execution_count": 8,
      "outputs": [
        {
          "output_type": "stream",
          "text": [
            "\n",
            "usage: boinccmd [--host hostname] [--passwd passwd] [--unix_domain] command\n",
            "\n",
            "default hostname: localhost\n",
            "default password: contents of gui_rpc_auth.cfg\n",
            "Commands:\n",
            " --acct_mgr attach URL name passwd  attach to account manager\n",
            " --acct_mgr info                    show current account manager info\n",
            " --acct_mgr sync                    synchronize with acct mgr\n",
            " --acct_mgr detach                  detach from acct mgr\n",
            " --client_version                   show client version\n",
            " --create_account URL email passwd name\n",
            " --file_transfer URL filename op    file transfer operation\n",
            "   op = retry | abort\n",
            " --get_app_config URL               show app config for given project\n",
            " --get_cc_status\n",
            " --get_daily_xfer_history           show network traffic history\n",
            " --get_disk_usage                   show disk usage\n",
            " --get_file_transfers               show file transfers\n",
            " --get_host_info\n",
            " --get_message_count                show largest message seqno\n",
            " --get_messages [ seqno ]           show messages > seqno\n",
            " --get_notices [ seqno ]            show notices > seqno\n",
            " --get_project_config URL\n",
            " --get_project_status               show status of all attached projects\n",
            " --get_proxy_settings\n",
            " --get_simple_gui_info              show status of projects and active tasks\n",
            " --get_state                        show entire state\n",
            " --get_tasks                        show tasks\n",
            " --get_old_tasks                    show reported tasks from last 1 hour\n",
            " --join_acct_mgr URL name passwd    same as --acct_mgr attach\n",
            " --lookup_account URL email passwd\n",
            " --network_available                retry deferred network communication\n",
            " --project URL op                   project operation\n",
            "   op = reset | detach | update | suspend | resume | nomorework | allowmorework | detach_when_done | dont_detach_when_done\n",
            " --project_attach URL auth          attach to project\n",
            " --quit                             tell client to exit\n",
            " --quit_acct_mgr                    same as --acct_mgr detach\n",
            " --read_cc_config\n",
            " --read_global_prefs_override\n",
            " --run_benchmarks\n",
            " --set_gpu_mode mode duration       set GPU run mode for given duration\n",
            "   mode = always | auto | never\n",
            " --set_host_info product_name\n",
            " --set_network_mode mode duration   set network mode for given duration\n",
            "   mode = always | auto | never\n",
            " --set_proxy_settings\n",
            " --set_run_mode mode duration       set run mode for given duration\n",
            "   mode = always | auto | never\n",
            " --task url task_name op            task operation\n",
            "   op = suspend | resume | abort\n"
          ],
          "name": "stdout"
        }
      ]
    },
    {
      "cell_type": "code",
      "metadata": {
        "id": "bkElAkGXl0OV",
        "colab_type": "code",
        "colab": {
          "base_uri": "https://localhost:8080/",
          "height": 215
        },
        "outputId": "a45e267a-00f9-464a-c3bd-c61d08c44031"
      },
      "source": [
        "!tail -f stdoutdae.txt"
      ],
      "execution_count": 9,
      "outputs": [
        {
          "output_type": "stream",
          "text": [
            "07-May-2020 19:25:17 [SRBase] Finished download of job_TF_l64c_00012.xml\n",
            "07-May-2020 19:25:17 [SRBase] Started download of worktodo13a27_0052352.txt\n",
            "07-May-2020 19:25:18 [SRBase] Finished download of wrapper_26012-v2_x86_64-pc-linux-gnu\n",
            "07-May-2020 19:25:18 [SRBase] Finished download of worktodo13a27_0052352.txt\n",
            "07-May-2020 19:25:18 [SRBase] Starting task TF_70-71_batch3_wu_52352_0\n",
            "07-May-2020 19:25:21 [SRBase] Sending scheduler request: To fetch work.\n",
            "07-May-2020 19:25:21 [SRBase] Requesting new tasks for NVIDIA GPU\n",
            "07-May-2020 19:25:23 [SRBase] Scheduler request completed: got 0 new tasks\n",
            "07-May-2020 19:25:24 [---] Project communication failed: attempting access to reference site\n",
            "07-May-2020 19:25:27 [---] Internet access OK - project servers may be temporarily down.\n",
            "^C\n"
          ],
          "name": "stdout"
        }
      ]
    },
    {
      "cell_type": "code",
      "metadata": {
        "id": "0Rw_ZLL3l1uH",
        "colab_type": "code",
        "colab": {}
      },
      "source": [
        "!boinccmd --quit"
      ],
      "execution_count": 0,
      "outputs": []
    }
  ]
}