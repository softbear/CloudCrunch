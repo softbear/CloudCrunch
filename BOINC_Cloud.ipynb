{
  "nbformat": 4,
  "nbformat_minor": 0,
  "metadata": {
    "colab": {
      "name": "BOINC@Cloud",
      "provenance": [],
      "collapsed_sections": [],
      "authorship_tag": "ABX9TyPSVye52NcHZFmqMYZZs/oB",
      "include_colab_link": true
    },
    "kernelspec": {
      "name": "python3",
      "display_name": "Python 3"
    },
    "accelerator": "GPU"
  },
  "cells": [
    {
      "cell_type": "markdown",
      "metadata": {
        "id": "view-in-github",
        "colab_type": "text"
      },
      "source": [
        "<a href=\"https://colab.research.google.com/github/softbear/CloudCrunch/blob/master/BOINC_Cloud.ipynb\" target=\"_parent\"><img src=\"https://colab.research.google.com/assets/colab-badge.svg\" alt=\"Open In Colab\"/></a>"
      ]
    },
    {
      "cell_type": "code",
      "metadata": {
        "id": "iGC2ZwSnS09V",
        "colab_type": "code",
        "outputId": "b0bd47ab-035d-476b-8253-d5c0456b0568",
        "colab": {
          "base_uri": "https://localhost:8080/",
          "height": 323
        }
      },
      "source": [
        "import os.path\n",
        "#!apt-get update\n",
        "!apt-get install boinc boinc-client\n",
        "!cp /usr/bin/boinc /content\n",
        "!cp /usr/bin/boinccmd /content\n"
      ],
      "execution_count": 1,
      "outputs": [
        {
          "output_type": "stream",
          "text": [
            "Reading package lists... Done\n",
            "Building dependency tree       \n",
            "Reading state information... Done\n",
            "boinc is already the newest version (7.9.3+dfsg-5ubuntu2).\n",
            "boinc-client is already the newest version (7.9.3+dfsg-5ubuntu2).\n",
            "0 upgraded, 0 newly installed, 0 to remove and 29 not upgraded.\n",
            "07-May-2020 19:08:10 [---] Project communication failed: attempting access to reference site\n",
            "07-May-2020 19:08:13 [---] Internet access OK - project servers may be temporarily down.\n",
            "07-May-2020 19:09:22 [---] Project communication failed: attempting access to reference site\n",
            "07-May-2020 19:09:24 [---] Internet access OK - project servers may be temporarily down.\n",
            "07-May-2020 19:12:35 [---] cc_config.xml not found - using defaults\n",
            "07-May-2020 19:12:37 [---] cc_config.xml not found - using defaults\n",
            "07-May-2020 19:13:04 [---] Project communication failed: attempting access to reference site\n",
            "07-May-2020 19:13:06 [---] Internet access OK - project servers may be temporarily down.\n",
            "07-May-2020 19:17:23 [---] cc_config.xml not found - using defaults\n",
            "07-May-2020 19:17:24 [---] cc_config.xml not found - using defaults\n",
            "^C\n"
          ],
          "name": "stdout"
        }
      ]
    },
    {
      "cell_type": "code",
      "metadata": {
        "id": "g0YqEp23lib9",
        "colab_type": "code",
        "colab": {
          "base_uri": "https://localhost:8080/",
          "height": 215
        },
        "outputId": "d281d373-10c9-4603-993a-0c5a32d3c2e9"
      },
      "source": [
        "if not os.path.exists('/content/slots'):\n",
        "  !mkdir slots\n",
        "if not os.path.exists('/content/slots/0'):\n",
        "  !boinc --daemon --attach_project \"http://srbase.my-firewall.org/sr5/\" \"2222_e4243665e4ae9aac9c4860429008560c\"\n",
        "  !boinc --daemon --attach_project \"https://escatter11.fullerton.edu/nfs/\" \"485853_94dfe4c2f46043c5b85288d5bcd5d072\"\n",
        "  !boinc --daemon --attach_project \"http://gpugrid.net\" \"520880_39aa28c40fb633ed3fd8c4a54fc577e2\"\n",
        "else:\n",
        "  !boinc --daemon\n",
        "!boinccmd --set_gpu_mode always\n"
      ],
      "execution_count": 2,
      "outputs": [
        {
          "output_type": "stream",
          "text": [
            "07-May-2020 19:09:24 [---] Internet access OK - project servers may be temporarily down.\n",
            "07-May-2020 19:12:35 [---] cc_config.xml not found - using defaults\n",
            "07-May-2020 19:12:37 [---] cc_config.xml not found - using defaults\n",
            "07-May-2020 19:13:04 [---] Project communication failed: attempting access to reference site\n",
            "07-May-2020 19:13:06 [---] Internet access OK - project servers may be temporarily down.\n",
            "07-May-2020 19:17:23 [---] cc_config.xml not found - using defaults\n",
            "07-May-2020 19:17:24 [---] cc_config.xml not found - using defaults\n",
            "07-May-2020 19:21:47 [---] cc_config.xml not found - using defaults\n",
            "07-May-2020 19:21:48 [---] cc_config.xml not found - using defaults\n",
            "07-May-2020 19:21:50 [---] cc_config.xml not found - using defaults\n",
            "^C\n"
          ],
          "name": "stdout"
        }
      ]
    },
    {
      "cell_type": "code",
      "metadata": {
        "id": "QZxq0gFdmPkh",
        "colab_type": "code",
        "colab": {}
      },
      "source": [
        "  !boinc --daemon --attach_project \"http://srbase.my-firewall.org/sr5/\" \"2222_e4243665e4ae9aac9c4860429008560c\"\n",
        "  !boinc --daemon --attach_project \"https://escatter11.fullerton.edu/nfs/\" \"485853_94dfe4c2f46043c5b85288d5bcd5d072\"\n",
        "  !boinc --daemon --attach_project \"http://gpugrid.net\" \"520880_39aa28c40fb633ed3fd8c4a54fc577e2\"\n",
        "  !boinc --daemon --attach_project \"http://yafu.myfirewall.org/yafu/\" \"77118_ed5f55dbe3031cfb6043a2fd7e832406\"\n",
        " "
      ],
      "execution_count": 0,
      "outputs": []
    },
    {
      "cell_type": "code",
      "metadata": {
        "id": "Tzta45IRmVGE",
        "colab_type": "code",
        "colab": {
          "base_uri": "https://localhost:8080/",
          "height": 35
        },
        "outputId": "dbccce70-e271-4f3b-95dc-1cb8359161d3"
      },
      "source": [
        "!boinccmd --daemon"
      ],
      "execution_count": 17,
      "outputs": [
        {
          "output_type": "stream",
          "text": [
            "can't connect to local host\n"
          ],
          "name": "stdout"
        }
      ]
    },
    {
      "cell_type": "code",
      "metadata": {
        "id": "zhoPcAFtps8H",
        "colab_type": "code",
        "colab": {
          "base_uri": "https://localhost:8080/",
          "height": 1000
        },
        "outputId": "eb3e2371-1711-4bba-c14a-cf1f2d984732"
      },
      "source": [
        "!boinc"
      ],
      "execution_count": 0,
      "outputs": [
        {
          "output_type": "stream",
          "text": [
            "07-May-2020 20:04:09 [SRBase] Computation for task TF_70-71_batch3_wu_53642_0 finished\n",
            "07-May-2020 20:04:09 [SRBase] Starting task TF_70-71_batch3_wu_53620_0\n",
            "07-May-2020 20:04:11 [SRBase] Started upload of TF_70-71_batch3_wu_53642_0_0\n",
            "07-May-2020 20:04:14 [SRBase] Finished upload of TF_70-71_batch3_wu_53642_0_0\n",
            "07-May-2020 20:04:18 [SRBase] Sending scheduler request: To fetch work.\n",
            "07-May-2020 20:04:18 [SRBase] Reporting 1 completed tasks\n",
            "07-May-2020 20:04:18 [SRBase] Requesting new tasks for NVIDIA GPU\n",
            "07-May-2020 20:04:20 [SRBase] Scheduler request completed: got 1 new tasks\n",
            "07-May-2020 20:04:22 [SRBase] Started download of worktodo13a27_0055708.txt\n",
            "07-May-2020 20:04:24 [SRBase] Finished download of worktodo13a27_0055708.txt\n",
            "07-May-2020 20:04:30 [SRBase] Sending scheduler request: To fetch work.\n",
            "07-May-2020 20:04:30 [SRBase] Requesting new tasks for NVIDIA GPU\n",
            "07-May-2020 20:04:32 [SRBase] Scheduler request completed: got 0 new tasks\n",
            "07-May-2020 20:06:09 [SRBase] Computation for task TF_70-71_batch3_wu_53620_0 finished\n",
            "07-May-2020 20:06:09 [SRBase] Starting task TF_70-71_batch3_wu_53583_0\n",
            "07-May-2020 20:06:11 [SRBase] Started upload of TF_70-71_batch3_wu_53620_0_0\n",
            "07-May-2020 20:06:14 [SRBase] Finished upload of TF_70-71_batch3_wu_53620_0_0\n",
            "07-May-2020 20:06:17 [SRBase] Sending scheduler request: To fetch work.\n",
            "07-May-2020 20:06:17 [SRBase] Reporting 1 completed tasks\n",
            "07-May-2020 20:06:17 [SRBase] Requesting new tasks for NVIDIA GPU\n",
            "07-May-2020 20:06:19 [SRBase] Scheduler request completed: got 1 new tasks\n",
            "07-May-2020 20:06:21 [SRBase] Started download of worktodo13a27_0055858.txt\n",
            "07-May-2020 20:06:23 [SRBase] Finished download of worktodo13a27_0055858.txt\n",
            "07-May-2020 20:06:29 [SRBase] Sending scheduler request: To fetch work.\n",
            "07-May-2020 20:06:29 [SRBase] Requesting new tasks for NVIDIA GPU\n",
            "07-May-2020 20:06:31 [SRBase] Scheduler request completed: got 0 new tasks\n",
            "07-May-2020 20:08:09 [SRBase] Computation for task TF_70-71_batch3_wu_53583_0 finished\n",
            "07-May-2020 20:08:09 [SRBase] Starting task TF_70-71_batch3_wu_53656_0\n",
            "07-May-2020 20:08:11 [SRBase] Started upload of TF_70-71_batch3_wu_53583_0_0\n",
            "07-May-2020 20:08:14 [SRBase] Finished upload of TF_70-71_batch3_wu_53583_0_0\n",
            "07-May-2020 20:08:16 [SRBase] Sending scheduler request: To fetch work.\n",
            "07-May-2020 20:08:16 [SRBase] Reporting 1 completed tasks\n",
            "07-May-2020 20:08:16 [SRBase] Requesting new tasks for NVIDIA GPU\n",
            "07-May-2020 20:08:18 [SRBase] Scheduler request completed: got 1 new tasks\n",
            "07-May-2020 20:08:20 [SRBase] Started download of worktodo13a27_0056030.txt\n",
            "07-May-2020 20:08:22 [SRBase] Finished download of worktodo13a27_0056030.txt\n",
            "07-May-2020 20:08:28 [SRBase] Sending scheduler request: To fetch work.\n",
            "07-May-2020 20:08:28 [SRBase] Requesting new tasks for NVIDIA GPU\n",
            "07-May-2020 20:08:30 [SRBase] Scheduler request completed: got 0 new tasks\n",
            "07-May-2020 20:10:09 [SRBase] Computation for task TF_70-71_batch3_wu_53656_0 finished\n",
            "07-May-2020 20:10:09 [SRBase] Starting task TF_70-71_batch3_wu_53562_0\n",
            "07-May-2020 20:10:11 [SRBase] Started upload of TF_70-71_batch3_wu_53656_0_0\n",
            "07-May-2020 20:10:14 [SRBase] Finished upload of TF_70-71_batch3_wu_53656_0_0\n",
            "07-May-2020 20:10:15 [SRBase] Sending scheduler request: To fetch work.\n",
            "07-May-2020 20:10:15 [SRBase] Reporting 1 completed tasks\n",
            "07-May-2020 20:10:15 [SRBase] Requesting new tasks for NVIDIA GPU\n",
            "07-May-2020 20:10:17 [SRBase] Scheduler request completed: got 1 new tasks\n",
            "07-May-2020 20:10:19 [SRBase] Started download of worktodo13a27_0056167.txt\n",
            "07-May-2020 20:10:21 [SRBase] Finished download of worktodo13a27_0056167.txt\n",
            "07-May-2020 20:10:27 [SRBase] Sending scheduler request: To fetch work.\n",
            "07-May-2020 20:10:27 [SRBase] Requesting new tasks for NVIDIA GPU\n",
            "07-May-2020 20:10:29 [SRBase] Scheduler request completed: got 0 new tasks\n",
            "07-May-2020 20:12:09 [SRBase] Computation for task TF_70-71_batch3_wu_53562_0 finished\n",
            "07-May-2020 20:12:09 [SRBase] Starting task TF_70-71_batch3_wu_53644_0\n",
            "07-May-2020 20:12:11 [SRBase] Started upload of TF_70-71_batch3_wu_53562_0_0\n",
            "07-May-2020 20:12:14 [SRBase] Finished upload of TF_70-71_batch3_wu_53562_0_0\n",
            "07-May-2020 20:12:14 [SRBase] Sending scheduler request: To fetch work.\n",
            "07-May-2020 20:12:14 [SRBase] Reporting 1 completed tasks\n",
            "07-May-2020 20:12:14 [SRBase] Requesting new tasks for NVIDIA GPU\n",
            "07-May-2020 20:12:16 [SRBase] Scheduler request completed: got 1 new tasks\n",
            "07-May-2020 20:12:18 [SRBase] Started download of worktodo13a27_0056288.txt\n",
            "07-May-2020 20:12:20 [SRBase] Finished download of worktodo13a27_0056288.txt\n",
            "07-May-2020 20:12:26 [SRBase] Sending scheduler request: To fetch work.\n",
            "07-May-2020 20:12:26 [SRBase] Requesting new tasks for NVIDIA GPU\n",
            "07-May-2020 20:12:28 [SRBase] Scheduler request completed: got 0 new tasks\n"
          ],
          "name": "stdout"
        }
      ]
    },
    {
      "cell_type": "code",
      "metadata": {
        "id": "QI-ntVmBoyed",
        "colab_type": "code",
        "colab": {
          "base_uri": "https://localhost:8080/",
          "height": 1000
        },
        "outputId": "6e8804fa-5ad6-46f2-f1de-af85653b8ce0"
      },
      "source": [
        "!boinccmd --get_state"
      ],
      "execution_count": 12,
      "outputs": [
        {
          "output_type": "stream",
          "text": [
            "======== Projects ========\n",
            "1) -----------\n",
            "   name: \n",
            "   master URL: http://www.srbase.my-firewall.org/sr5/\n",
            "   user_name: \n",
            "   team_name: \n",
            "   resource share: 100.000000\n",
            "   user_total_credit: 0.000000\n",
            "   user_expavg_credit: 0.000000\n",
            "   host_total_credit: 0.000000\n",
            "   host_expavg_credit: 0.000000\n",
            "   nrpc_failures: 2\n",
            "   master_fetch_failures: 4\n",
            "   master fetch pending: yes\n",
            "   scheduler RPC pending: yes\n",
            "   trickle upload pending: no\n",
            "   attached via Account Manager: no\n",
            "   ended: no\n",
            "   suspended via GUI: no\n",
            "   don't request more work: no\n",
            "   disk usage: 0.000000\n",
            "   last RPC: Thu Jan  1 00:00:00 1970\n",
            "\n",
            "   project files downloaded: 0.000000\n",
            "   jobs succeeded: 0\n",
            "   jobs failed: 0\n",
            "   elapsed time: 0.000000\n",
            "   cross-project ID: \n",
            "2) -----------\n",
            "   name: SRBase\n",
            "   master URL: http://srbase.my-firewall.org/sr5/\n",
            "   user_name: darkismight\n",
            "   team_name: Gridcoin\n",
            "   resource share: 100.000000\n",
            "   user_total_credit: 2194500.000000\n",
            "   user_expavg_credit: 142551.208329\n",
            "   host_total_credit: 0.000000\n",
            "   host_expavg_credit: 0.000000\n",
            "   nrpc_failures: 0\n",
            "   master_fetch_failures: 0\n",
            "   master fetch pending: no\n",
            "   scheduler RPC pending: no\n",
            "   trickle upload pending: no\n",
            "   attached via Account Manager: no\n",
            "   ended: no\n",
            "   suspended via GUI: no\n",
            "   don't request more work: no\n",
            "   disk usage: 0.000000\n",
            "   last RPC: Thu May  7 19:27:21 2020\n",
            "\n",
            "   project files downloaded: 0.000000\n",
            "   jobs succeeded: 1\n",
            "   jobs failed: 0\n",
            "   elapsed time: 112.152496\n",
            "   cross-project ID: 92257a71c0d0379cf559b9928010cfa6\n",
            "\n",
            "======== Applications ========\n",
            "1) -----------\n",
            "   name: TF\n",
            "   Project: SRBase\n",
            "\n",
            "======== Application versions ========\n",
            "1) -----------\n",
            "   project: SRBase\n",
            "   application: TF\n",
            "   platform: x86_64-pc-linux-gnu\n",
            "   plan class: cuda100\n",
            "   version: 0.12\n",
            "   avg #CPUS: 0.766\n",
            "   estimated GFLOPS: 0.47\n",
            "   filename: wrapper_26012-v2_x86_64-pc-linux-gnu\n",
            "\n",
            "======== Workunits ========\n",
            "\n",
            "======== Tasks ========\n",
            "\n",
            "======== Time stats ========\n",
            "  now: 1588880179.878503\n",
            "  on_frac: 0.999965\n",
            "  connected_frac: -1.000000\n",
            "  cpu_and_network_available_frac: 0.999965\n",
            "  active_frac: 0.999965\n",
            "  gpu_active_frac: 0.999965\n",
            "  client_start_time: Thu May  7 19:24:54 2020\n",
            "\n",
            "  previous_uptime: 1021.374320\n",
            "  session_active_duration: 680.935939\n",
            "  session_gpu_active_duration: 680.935939\n",
            "  total_start_time: Thu May  7 19:07:32 2020\n",
            "\n",
            "  total_duration: 1692.224270\n",
            "  total_active_duration: 1662.185057\n",
            "  total_gpu_active_duration: 1662.185057\n"
          ],
          "name": "stdout"
        }
      ]
    },
    {
      "cell_type": "code",
      "metadata": {
        "id": "bkElAkGXl0OV",
        "colab_type": "code",
        "colab": {
          "base_uri": "https://localhost:8080/",
          "height": 215
        },
        "outputId": "65013ea9-8a8f-47c8-e23f-ce81c04315e7"
      },
      "source": [
        "!tail -f stdoutdae.txt"
      ],
      "execution_count": 10,
      "outputs": [
        {
          "output_type": "stream",
          "text": [
            "07-May-2020 19:25:23 [SRBase] Scheduler request completed: got 0 new tasks\n",
            "07-May-2020 19:25:24 [---] Project communication failed: attempting access to reference site\n",
            "07-May-2020 19:25:27 [---] Internet access OK - project servers may be temporarily down.\n",
            "07-May-2020 19:27:11 [SRBase] Computation for task TF_70-71_batch3_wu_52352_0 finished\n",
            "07-May-2020 19:27:13 [SRBase] Started upload of TF_70-71_batch3_wu_52352_0_0\n",
            "07-May-2020 19:27:16 [SRBase] Finished upload of TF_70-71_batch3_wu_52352_0_0\n",
            "07-May-2020 19:27:19 [SRBase] Sending scheduler request: To fetch work.\n",
            "07-May-2020 19:27:19 [SRBase] Reporting 1 completed tasks\n",
            "07-May-2020 19:27:19 [SRBase] Requesting new tasks for NVIDIA GPU\n",
            "07-May-2020 19:27:21 [SRBase] Scheduler request completed: got 0 new tasks\n",
            "^C\n"
          ],
          "name": "stdout"
        }
      ]
    },
    {
      "cell_type": "code",
      "metadata": {
        "id": "3J1J0LPgpR3h",
        "colab_type": "code",
        "colab": {
          "base_uri": "https://localhost:8080/",
          "height": 53
        },
        "outputId": "05603d89-7d46-4fdb-cc6f-fa0db5a44d6a"
      },
      "source": [
        "!boinccmd --get_tasks"
      ],
      "execution_count": 15,
      "outputs": [
        {
          "output_type": "stream",
          "text": [
            "\n",
            "======== Tasks ========\n"
          ],
          "name": "stdout"
        }
      ]
    },
    {
      "cell_type": "code",
      "metadata": {
        "id": "0Rw_ZLL3l1uH",
        "colab_type": "code",
        "colab": {}
      },
      "source": [
        "!boinccmd --quit"
      ],
      "execution_count": 0,
      "outputs": []
    }
  ]
}