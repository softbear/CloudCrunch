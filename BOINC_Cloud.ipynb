{
  "nbformat": 4,
  "nbformat_minor": 0,
  "metadata": {
    "colab": {
      "name": "BOINC@Cloud",
      "provenance": [],
      "collapsed_sections": [],
      "authorship_tag": "ABX9TyPsi6Z/VZZ0RKUIqpOvSSSF",
      "include_colab_link": true
    },
    "kernelspec": {
      "name": "python3",
      "display_name": "Python 3"
    },
    "accelerator": "GPU"
  },
  "cells": [
    {
      "cell_type": "markdown",
      "metadata": {
        "id": "view-in-github",
        "colab_type": "text"
      },
      "source": [
        "<a href=\"https://colab.research.google.com/github/softbear/CloudCrunch/blob/master/BOINC_Cloud.ipynb\" target=\"_parent\"><img src=\"https://colab.research.google.com/assets/colab-badge.svg\" alt=\"Open In Colab\"/></a>"
      ]
    },
    {
      "cell_type": "code",
      "metadata": {
        "id": "iGC2ZwSnS09V",
        "colab_type": "code",
        "outputId": "ff51c0a8-b78e-4d8e-f62b-474fe757cafe",
        "colab": {
          "base_uri": "https://localhost:8080/",
          "height": 561
        }
      },
      "source": [
        "import os.path\n",
        "#!apt-get update\n",
        "!apt-get install boinc boinc-client\n",
        "!cp /usr/bin/boinc /content\n",
        "!cp /usr/bin/boinccmd /content\n",
        "if not os.path.exists('/content/slots'):\n",
        "  !mkdir slots\n",
        "if not os.path.exists('/content/slots/0'):\n",
        "  !boinc --daemon --attach_project \"http://www.srbase.my-firewall.org/sr5/\" \"2222_e4243665e4ae9aac9c4860429008560c\"\n",
        "  !boinc --daemon --attach_project \"https://www.escatter11.fullerton.edu/nfs/\" \"485853_94dfe4c2f46043c5b85288d5bcd5d072\"\n",
        "else:\n",
        "  !boinc --daemon \n",
        "!boinccmd --set_gpu_mode always\n",
        "!tail -f stdoutdae.txt"
      ],
      "execution_count": 5,
      "outputs": [
        {
          "output_type": "stream",
          "text": [
            "\r0% [Working]\r            \rHit:1 http://ppa.launchpad.net/graphics-drivers/ppa/ubuntu bionic InRelease\n",
            "\r0% [Waiting for headers] [Waiting for headers] [Connecting to cloud.r-project.o\r                                                                               \rHit:2 http://archive.ubuntu.com/ubuntu bionic InRelease\n",
            "\r                                                                               \rGet:3 http://security.ubuntu.com/ubuntu bionic-security InRelease [88.7 kB]\n",
            "\r0% [Waiting for headers] [3 InRelease 14.2 kB/88.7 kB 16%] [Connected to cloud.\r                                                                               \rGet:4 http://archive.ubuntu.com/ubuntu bionic-updates InRelease [88.7 kB]\n",
            "\r0% [4 InRelease 2,602 B/88.7 kB 3%] [3 InRelease 17.1 kB/88.7 kB 19%] [Connecte\r0% [1 InRelease gpgv 21.3 kB] [4 InRelease 2,602 B/88.7 kB 3%] [3 InRelease 17.\r                                                                               \rHit:5 http://ppa.launchpad.net/marutter/c2d4u3.5/ubuntu bionic InRelease\n",
            "\r0% [1 InRelease gpgv 21.3 kB] [4 InRelease 14.2 kB/88.7 kB 16%] [3 InRelease 20\r0% [1 InRelease gpgv 21.3 kB] [4 InRelease 66.3 kB/88.7 kB 75%] [Connected to c\r0% [1 InRelease gpgv 21.3 kB] [Connected to cloud.r-project.org (13.226.155.114\r                                                                               \rGet:6 http://archive.ubuntu.com/ubuntu bionic-backports InRelease [74.6 kB]\n",
            "\r0% [1 InRelease gpgv 21.3 kB] [6 InRelease 9,842 B/74.6 kB 13%] [Connected to c\r0% [1 InRelease gpgv 21.3 kB] [Connected to cloud.r-project.org (13.226.155.114\r                                                                               \rHit:7 https://cloud.r-project.org/bin/linux/ubuntu bionic-cran35/ InRelease\n",
            "\r                                                                               \r0% [1 InRelease gpgv 21.3 kB] [Waiting for headers]\r                                                   \rIgn:8 https://developer.download.nvidia.com/compute/cuda/repos/ubuntu1804/x86_64  InRelease\n",
            "\r0% [1 InRelease gpgv 21.3 kB] [Waiting for headers]\r                                                   \r0% [Waiting for headers]\r0% [2 InRelease gpgv 242 kB] [Waiting for headers]\r                                                  \rIgn:9 https://developer.download.nvidia.com/compute/machine-learning/repos/ubuntu1804/x86_64  InRelease\n",
            "\r                                                  \r0% [2 InRelease gpgv 242 kB]\r                            \rHit:10 https://developer.download.nvidia.com/compute/cuda/repos/ubuntu1804/x86_64  Release\n",
            "Hit:11 https://developer.download.nvidia.com/compute/machine-learning/repos/ubuntu1804/x86_64  Release\n",
            "Fetched 252 kB in 2s (121 kB/s)\n",
            "Reading package lists... Done\n",
            "Reading package lists... Done\n",
            "Building dependency tree       \n",
            "Reading state information... Done\n",
            "boinc is already the newest version (7.9.3+dfsg-5ubuntu2).\n",
            "boinc-client is already the newest version (7.9.3+dfsg-5ubuntu2).\n",
            "0 upgraded, 0 newly installed, 0 to remove and 32 not upgraded.\n",
            "Authorization failure: -155\n",
            "07-May-2020 00:54:41 [---] Preferences:\n",
            "07-May-2020 00:54:41 [---]    max memory usage when active: 6510.53 MB\n",
            "07-May-2020 00:54:41 [---]    max memory usage when idle: 11718.95 MB\n",
            "07-May-2020 00:54:41 [---]    max disk usage: 33.25 GB\n",
            "07-May-2020 00:54:41 [---]    don't use GPU while active\n",
            "07-May-2020 00:54:41 [---]    suspend work if non-BOINC CPU load exceeds 25%\n",
            "07-May-2020 00:54:41 [---]    (to change preferences, visit a project web site or select Preferences in the Manager)\n",
            "07-May-2020 00:54:41 [---] Setting up project and slot directories\n",
            "07-May-2020 00:54:41 [---] Checking active tasks\n",
            "07-May-2020 00:54:41 [---] Setting up GUI RPC socket\n",
            "07-May-2020 00:55:10 [---] GUI RPC bind to port 31416 failed: 98\n",
            "^C\n"
          ],
          "name": "stdout"
        }
      ]
    }
  ]
}