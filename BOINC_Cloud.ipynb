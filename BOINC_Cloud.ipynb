{
  "nbformat": 4,
  "nbformat_minor": 0,
  "metadata": {
    "colab": {
      "name": "BOINC@Cloud",
      "provenance": [],
      "collapsed_sections": [],
      "authorship_tag": "ABX9TyOCZvN5NhmfDE6oK0DFU0Ly",
      "include_colab_link": true
    },
    "kernelspec": {
      "name": "python3",
      "display_name": "Python 3"
    },
    "accelerator": "GPU"
  },
  "cells": [
    {
      "cell_type": "markdown",
      "metadata": {
        "id": "view-in-github",
        "colab_type": "text"
      },
      "source": [
        "<a href=\"https://colab.research.google.com/github/softbear/CloudCrunch/blob/master/BOINC_Cloud.ipynb\" target=\"_parent\"><img src=\"https://colab.research.google.com/assets/colab-badge.svg\" alt=\"Open In Colab\"/></a>"
      ]
    },
    {
      "cell_type": "code",
      "metadata": {
        "id": "iGC2ZwSnS09V",
        "colab_type": "code",
        "colab": {}
      },
      "source": [
        "import os.path\n",
        "!apt-get update\n",
        "!apt-get install -y boinc boinc-client\n",
        "!cp /usr/bin/boinc /content\n",
        "!cp /usr/bin/boinccmd /content"
      ],
      "execution_count": 0,
      "outputs": []
    },
    {
      "cell_type": "code",
      "metadata": {
        "id": "g0YqEp23lib9",
        "colab_type": "code",
        "colab": {}
      },
      "source": [
        "if not os.path.exists('/content/slots'):\n",
        "  !mkdir slots\n",
        "if not os.path.exists('/content/slots/0'):\n",
        "  !boinc --daemon\n",
        "  !boinc --attach_project \"http://srbase.my-firewall.org/sr5/\" \"2222_e4243665e4ae9aac9c4860429008560c\"\n",
        "  !boinc --attach_project \"https://escatter11.fullerton.edu/nfs/\" \"485853_94dfe4c2f46043c5b85288d5bcd5d072\"\n",
        "  !boinc --attach_project \"http://gpugrid.net\" \"520880_39aa28c40fb633ed3fd8c4a54fc577e2\"\n",
        "  !boinc --attach_project \"http://yafu.myfirewall.org/yafu/\" \"77118_ed5f55dbe3031cfb6043a2fd7e832406\"\n",
        "else:\n",
        "  !boinc --daemon\n",
        "!boinccmd --set_gpu_mode always\n"
      ],
      "execution_count": 0,
      "outputs": []
    },
    {
      "cell_type": "code",
      "metadata": {
        "id": "QZxq0gFdmPkh",
        "colab_type": "code",
        "colab": {}
      },
      "source": [
        "#!boinc --daemon --attach_project \"http://srbase.my-firewall.org/sr5/\" \"2222_e4243665e4ae9aac9c4860429008560c\"\n",
        "#!boinc --daemon --attach_project \"https://escatter11.fullerton.edu/nfs/\" \"485853_94dfe4c2f46043c5b85288d5bcd5d072\"\n",
        "#!boinc --daemon --attach_project \"http://gpugrid.net\" \"520880_39aa28c40fb633ed3fd8c4a54fc577e2\"\n",
        "#!boinc --daemon --attach_project \"http://yafu.myfirewall.org/yafu/\" \"77118_ed5f55dbe3031cfb6043a2fd7e832406\"\n",
        " "
      ],
      "execution_count": 0,
      "outputs": []
    },
    {
      "cell_type": "code",
      "metadata": {
        "id": "zhoPcAFtps8H",
        "colab_type": "code",
        "colab": {
          "base_uri": "https://localhost:8080/",
          "height": 1000
        },
        "outputId": "43381a82-0e97-469e-9a85-bf936f9853a3"
      },
      "source": [
        "!boinc"
      ],
      "execution_count": 0,
      "outputs": [
        {
          "output_type": "stream",
          "text": [
            "07-May-2020 20:18:23 [SRBase] Finished download of worktodo13a27_0056863.txt\n",
            "07-May-2020 20:18:29 [SRBase] Sending scheduler request: To fetch work.\n",
            "07-May-2020 20:18:29 [SRBase] Requesting new tasks for NVIDIA GPU\n",
            "07-May-2020 20:18:31 [SRBase] Scheduler request completed: got 0 new tasks\n",
            "07-May-2020 20:20:09 [SRBase] Computation for task TF_70-71_batch3_wu_53598_0 finished\n",
            "07-May-2020 20:20:09 [SRBase] Starting task TF_70-71_batch3_wu_54009_0\n",
            "07-May-2020 20:20:11 [SRBase] Started upload of TF_70-71_batch3_wu_53598_0_0\n",
            "07-May-2020 20:20:14 [SRBase] Finished upload of TF_70-71_batch3_wu_53598_0_0\n",
            "07-May-2020 20:20:16 [SRBase] Sending scheduler request: To fetch work.\n",
            "07-May-2020 20:20:16 [SRBase] Reporting 1 completed tasks\n",
            "07-May-2020 20:20:16 [SRBase] Requesting new tasks for NVIDIA GPU\n",
            "07-May-2020 20:20:18 [SRBase] Scheduler request completed: got 1 new tasks\n",
            "07-May-2020 20:20:20 [SRBase] Started download of worktodo13a27_0057041.txt\n",
            "07-May-2020 20:20:22 [SRBase] Finished download of worktodo13a27_0057041.txt\n",
            "07-May-2020 20:20:28 [SRBase] Sending scheduler request: To fetch work.\n",
            "07-May-2020 20:20:28 [SRBase] Requesting new tasks for NVIDIA GPU\n",
            "07-May-2020 20:20:30 [SRBase] Scheduler request completed: got 0 new tasks\n",
            "07-May-2020 20:22:09 [SRBase] Computation for task TF_70-71_batch3_wu_54009_0 finished\n",
            "07-May-2020 20:22:09 [SRBase] Starting task TF_70-71_batch3_wu_53984_0\n",
            "07-May-2020 20:22:11 [SRBase] Started upload of TF_70-71_batch3_wu_54009_0_0\n",
            "07-May-2020 20:22:14 [SRBase] Finished upload of TF_70-71_batch3_wu_54009_0_0\n",
            "07-May-2020 20:22:15 [SRBase] Sending scheduler request: To fetch work.\n",
            "07-May-2020 20:22:15 [SRBase] Reporting 1 completed tasks\n",
            "07-May-2020 20:22:15 [SRBase] Requesting new tasks for NVIDIA GPU\n",
            "07-May-2020 20:22:17 [SRBase] Scheduler request completed: got 1 new tasks\n",
            "07-May-2020 20:22:19 [SRBase] Started download of worktodo13a27_0057188.txt\n",
            "07-May-2020 20:22:21 [SRBase] Finished download of worktodo13a27_0057188.txt\n",
            "07-May-2020 20:22:27 [SRBase] Sending scheduler request: To fetch work.\n",
            "07-May-2020 20:22:27 [SRBase] Requesting new tasks for NVIDIA GPU\n",
            "07-May-2020 20:22:29 [SRBase] Scheduler request completed: got 0 new tasks\n",
            "07-May-2020 20:24:09 [SRBase] Computation for task TF_70-71_batch3_wu_53984_0 finished\n",
            "07-May-2020 20:24:09 [SRBase] Starting task TF_70-71_batch3_wu_54187_0\n",
            "07-May-2020 20:24:11 [SRBase] Started upload of TF_70-71_batch3_wu_53984_0_0\n",
            "07-May-2020 20:24:14 [SRBase] Finished upload of TF_70-71_batch3_wu_53984_0_0\n",
            "07-May-2020 20:24:14 [SRBase] Sending scheduler request: To fetch work.\n",
            "07-May-2020 20:24:14 [SRBase] Reporting 1 completed tasks\n",
            "07-May-2020 20:24:14 [SRBase] Requesting new tasks for NVIDIA GPU\n",
            "07-May-2020 20:24:16 [SRBase] Scheduler request completed: got 1 new tasks\n",
            "07-May-2020 20:24:18 [SRBase] Started download of worktodo13a27_0057342.txt\n",
            "07-May-2020 20:24:20 [SRBase] Finished download of worktodo13a27_0057342.txt\n",
            "07-May-2020 20:24:26 [SRBase] Sending scheduler request: To fetch work.\n",
            "07-May-2020 20:24:26 [SRBase] Requesting new tasks for NVIDIA GPU\n",
            "07-May-2020 20:24:28 [SRBase] Scheduler request completed: got 0 new tasks\n",
            "07-May-2020 20:26:10 [SRBase] Computation for task TF_70-71_batch3_wu_54187_0 finished\n",
            "07-May-2020 20:26:10 [SRBase] Starting task TF_70-71_batch3_wu_54365_0\n",
            "07-May-2020 20:26:12 [SRBase] Started upload of TF_70-71_batch3_wu_54187_0_0\n",
            "07-May-2020 20:26:15 [SRBase] Finished upload of TF_70-71_batch3_wu_54187_0_0\n",
            "07-May-2020 20:26:19 [SRBase] Sending scheduler request: To fetch work.\n",
            "07-May-2020 20:26:19 [SRBase] Reporting 1 completed tasks\n",
            "07-May-2020 20:26:19 [SRBase] Requesting new tasks for NVIDIA GPU\n",
            "07-May-2020 20:26:21 [SRBase] Scheduler request completed: got 1 new tasks\n",
            "07-May-2020 20:26:23 [SRBase] Started download of worktodo13a27_0057470.txt\n",
            "07-May-2020 20:26:25 [SRBase] Finished download of worktodo13a27_0057470.txt\n",
            "07-May-2020 20:26:31 [SRBase] Sending scheduler request: To fetch work.\n",
            "07-May-2020 20:26:31 [SRBase] Requesting new tasks for NVIDIA GPU\n",
            "07-May-2020 20:26:33 [SRBase] Scheduler request completed: got 0 new tasks\n",
            "07-May-2020 20:28:10 [SRBase] Computation for task TF_70-71_batch3_wu_54365_0 finished\n",
            "07-May-2020 20:28:10 [SRBase] Starting task TF_70-71_batch3_wu_54538_0\n",
            "07-May-2020 20:28:12 [SRBase] Started upload of TF_70-71_batch3_wu_54365_0_0\n",
            "07-May-2020 20:28:15 [SRBase] Finished upload of TF_70-71_batch3_wu_54365_0_0\n",
            "07-May-2020 20:28:18 [SRBase] Sending scheduler request: To fetch work.\n",
            "07-May-2020 20:28:18 [SRBase] Reporting 1 completed tasks\n",
            "07-May-2020 20:28:18 [SRBase] Requesting new tasks for NVIDIA GPU\n",
            "07-May-2020 20:28:20 [SRBase] Scheduler request completed: got 1 new tasks\n",
            "07-May-2020 20:28:22 [SRBase] Started download of worktodo13a27_0057681.txt\n",
            "07-May-2020 20:28:24 [SRBase] Finished download of worktodo13a27_0057681.txt\n",
            "07-May-2020 20:28:30 [SRBase] Sending scheduler request: To fetch work.\n",
            "07-May-2020 20:28:30 [SRBase] Requesting new tasks for NVIDIA GPU\n",
            "07-May-2020 20:28:32 [SRBase] Scheduler request completed: got 0 new tasks\n"
          ],
          "name": "stdout"
        }
      ]
    },
    {
      "cell_type": "code",
      "metadata": {
        "id": "QI-ntVmBoyed",
        "colab_type": "code",
        "colab": {}
      },
      "source": [
        "!boinccmd --get_state"
      ],
      "execution_count": 0,
      "outputs": []
    },
    {
      "cell_type": "code",
      "metadata": {
        "id": "bkElAkGXl0OV",
        "colab_type": "code",
        "colab": {}
      },
      "source": [
        "!tail -f stdoutdae.txt"
      ],
      "execution_count": 0,
      "outputs": []
    },
    {
      "cell_type": "code",
      "metadata": {
        "id": "3J1J0LPgpR3h",
        "colab_type": "code",
        "colab": {}
      },
      "source": [
        "!boinccmd --get_tasks"
      ],
      "execution_count": 0,
      "outputs": []
    },
    {
      "cell_type": "code",
      "metadata": {
        "id": "0Rw_ZLL3l1uH",
        "colab_type": "code",
        "colab": {}
      },
      "source": [
        "!boinccmd --quit"
      ],
      "execution_count": 0,
      "outputs": []
    }
  ]
}